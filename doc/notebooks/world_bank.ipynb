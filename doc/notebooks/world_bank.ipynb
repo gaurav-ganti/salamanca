{
 "cells": [
  {
   "cell_type": "markdown",
   "id": "outstanding-housing",
   "metadata": {},
   "source": [
    "# Querying World Bank Data"
   ]
  },
  {
   "cell_type": "code",
   "execution_count": 1,
   "id": "technical-genre",
   "metadata": {},
   "outputs": [],
   "source": [
    "from salamanca.data import WorldBank"
   ]
  },
  {
   "cell_type": "markdown",
   "id": "coral-humidity",
   "metadata": {},
   "source": [
    "`salamanca` provides a low-frills API into the World Bank [REST interface](https://datahelpdesk.worldbank.org/knowledgebase/articles/889392-about-the-indicators-api-documentation). By default, `salamanca` saves a local copy of data in `~/.local/salamanca/data` so that downloads are kept to a minimum."
   ]
  },
  {
   "cell_type": "code",
   "execution_count": 2,
   "id": "extensive-atlantic",
   "metadata": {},
   "outputs": [],
   "source": [
    "wb = WorldBank()"
   ]
  },
  {
   "cell_type": "markdown",
   "id": "forced-baking",
   "metadata": {},
   "source": [
    "A number of commonly used indicators are provided out of the box."
   ]
  },
  {
   "cell_type": "code",
   "execution_count": 3,
   "id": "essential-saturn",
   "metadata": {},
   "outputs": [
    {
     "data": {
      "text/html": [
       "<div>\n",
       "<style scoped>\n",
       "    .dataframe tbody tr th:only-of-type {\n",
       "        vertical-align: middle;\n",
       "    }\n",
       "\n",
       "    .dataframe tbody tr th {\n",
       "        vertical-align: top;\n",
       "    }\n",
       "\n",
       "    .dataframe thead th {\n",
       "        text-align: right;\n",
       "    }\n",
       "</style>\n",
       "<table border=\"1\" class=\"dataframe\">\n",
       "  <thead>\n",
       "    <tr style=\"text-align: right;\">\n",
       "      <th></th>\n",
       "      <th>country</th>\n",
       "      <th>date</th>\n",
       "      <th>value</th>\n",
       "    </tr>\n",
       "  </thead>\n",
       "  <tbody>\n",
       "    <tr>\n",
       "      <th>0</th>\n",
       "      <td>ABW</td>\n",
       "      <td>2020</td>\n",
       "      <td>NaN</td>\n",
       "    </tr>\n",
       "    <tr>\n",
       "      <th>1</th>\n",
       "      <td>ABW</td>\n",
       "      <td>2019</td>\n",
       "      <td>1.79</td>\n",
       "    </tr>\n",
       "    <tr>\n",
       "      <th>2</th>\n",
       "      <td>ABW</td>\n",
       "      <td>2018</td>\n",
       "      <td>1.79</td>\n",
       "    </tr>\n",
       "    <tr>\n",
       "      <th>3</th>\n",
       "      <td>ABW</td>\n",
       "      <td>2017</td>\n",
       "      <td>1.79</td>\n",
       "    </tr>\n",
       "    <tr>\n",
       "      <th>4</th>\n",
       "      <td>ABW</td>\n",
       "      <td>2016</td>\n",
       "      <td>1.79</td>\n",
       "    </tr>\n",
       "  </tbody>\n",
       "</table>\n",
       "</div>"
      ],
      "text/plain": [
       "  country  date  value\n",
       "0     ABW  2020    NaN\n",
       "1     ABW  2019   1.79\n",
       "2     ABW  2018   1.79\n",
       "3     ABW  2017   1.79\n",
       "4     ABW  2016   1.79"
      ]
     },
     "execution_count": 3,
     "metadata": {},
     "output_type": "execute_result"
    }
   ],
   "source": [
    "wb.exchange_rate().head()"
   ]
  },
  {
   "cell_type": "markdown",
   "id": "fresh-average",
   "metadata": {},
   "source": [
    "Any WB indicator can be queried through a standard `query()` interface"
   ]
  },
  {
   "cell_type": "code",
   "execution_count": 4,
   "id": "armed-vienna",
   "metadata": {},
   "outputs": [
    {
     "name": "stderr",
     "output_type": "stream",
     "text": [
      "/Users/matthewgidden/work/iiasa/salamanca/salamanca/data.py:127: UserWarning: Can not cache queries with additional arguments\n",
      "  warnings.warn('Can not cache queries with additional arguments')\n"
     ]
    },
    {
     "data": {
      "text/html": [
       "<div>\n",
       "<style scoped>\n",
       "    .dataframe tbody tr th:only-of-type {\n",
       "        vertical-align: middle;\n",
       "    }\n",
       "\n",
       "    .dataframe tbody tr th {\n",
       "        vertical-align: top;\n",
       "    }\n",
       "\n",
       "    .dataframe thead th {\n",
       "        text-align: right;\n",
       "    }\n",
       "</style>\n",
       "<table border=\"1\" class=\"dataframe\">\n",
       "  <thead>\n",
       "    <tr style=\"text-align: right;\">\n",
       "      <th></th>\n",
       "      <th>country</th>\n",
       "      <th>date</th>\n",
       "      <th>value</th>\n",
       "    </tr>\n",
       "  </thead>\n",
       "  <tbody>\n",
       "    <tr>\n",
       "      <th>0</th>\n",
       "      <td>USA</td>\n",
       "      <td>2020</td>\n",
       "      <td>NaN</td>\n",
       "    </tr>\n",
       "    <tr>\n",
       "      <th>1</th>\n",
       "      <td>USA</td>\n",
       "      <td>2019</td>\n",
       "      <td>328239523.0</td>\n",
       "    </tr>\n",
       "    <tr>\n",
       "      <th>2</th>\n",
       "      <td>USA</td>\n",
       "      <td>2018</td>\n",
       "      <td>326687501.0</td>\n",
       "    </tr>\n",
       "    <tr>\n",
       "      <th>3</th>\n",
       "      <td>USA</td>\n",
       "      <td>2017</td>\n",
       "      <td>324985539.0</td>\n",
       "    </tr>\n",
       "    <tr>\n",
       "      <th>4</th>\n",
       "      <td>USA</td>\n",
       "      <td>2016</td>\n",
       "      <td>322941311.0</td>\n",
       "    </tr>\n",
       "  </tbody>\n",
       "</table>\n",
       "</div>"
      ],
      "text/plain": [
       "  country  date        value\n",
       "0     USA  2020          NaN\n",
       "1     USA  2019  328239523.0\n",
       "2     USA  2018  326687501.0\n",
       "3     USA  2017  324985539.0\n",
       "4     USA  2016  322941311.0"
      ]
     },
     "execution_count": 4,
     "metadata": {},
     "output_type": "execute_result"
    }
   ],
   "source": [
    "df = wb.query('SP.POP.TOTL', iso='USA')\n",
    "df.head()"
   ]
  },
  {
   "cell_type": "markdown",
   "id": "fundamental-teacher",
   "metadata": {},
   "source": [
    "## Advanced Usage\n",
    "\n",
    "`salamanca` tries to support all available WB API query strings. See a list [here](https://datahelpdesk.worldbank.org/knowledgebase/articles/898581-api-basic-call-structures).\n",
    "\n",
    "An example of an advanced query is shown below."
   ]
  },
  {
   "cell_type": "code",
   "execution_count": 5,
   "id": "passing-chambers",
   "metadata": {},
   "outputs": [
    {
     "data": {
      "text/html": [
       "<div>\n",
       "<style scoped>\n",
       "    .dataframe tbody tr th:only-of-type {\n",
       "        vertical-align: middle;\n",
       "    }\n",
       "\n",
       "    .dataframe tbody tr th {\n",
       "        vertical-align: top;\n",
       "    }\n",
       "\n",
       "    .dataframe thead th {\n",
       "        text-align: right;\n",
       "    }\n",
       "</style>\n",
       "<table border=\"1\" class=\"dataframe\">\n",
       "  <thead>\n",
       "    <tr style=\"text-align: right;\">\n",
       "      <th></th>\n",
       "      <th>country</th>\n",
       "      <th>date</th>\n",
       "      <th>value</th>\n",
       "    </tr>\n",
       "  </thead>\n",
       "  <tbody>\n",
       "    <tr>\n",
       "      <th>0</th>\n",
       "      <td>CHN</td>\n",
       "      <td>2017M07</td>\n",
       "      <td>6.771143</td>\n",
       "    </tr>\n",
       "    <tr>\n",
       "      <th>1</th>\n",
       "      <td>CHN</td>\n",
       "      <td>2017M06</td>\n",
       "      <td>6.807023</td>\n",
       "    </tr>\n",
       "    <tr>\n",
       "      <th>2</th>\n",
       "      <td>CHN</td>\n",
       "      <td>2017M05</td>\n",
       "      <td>6.883304</td>\n",
       "    </tr>\n",
       "    <tr>\n",
       "      <th>3</th>\n",
       "      <td>IND</td>\n",
       "      <td>2017M07</td>\n",
       "      <td>64.438571</td>\n",
       "    </tr>\n",
       "    <tr>\n",
       "      <th>4</th>\n",
       "      <td>IND</td>\n",
       "      <td>2017M06</td>\n",
       "      <td>64.447364</td>\n",
       "    </tr>\n",
       "  </tbody>\n",
       "</table>\n",
       "</div>"
      ],
      "text/plain": [
       "  country     date      value\n",
       "0     CHN  2017M07   6.771143\n",
       "1     CHN  2017M06   6.807023\n",
       "2     CHN  2017M05   6.883304\n",
       "3     IND  2017M07  64.438571\n",
       "4     IND  2017M06  64.447364"
      ]
     },
     "execution_count": 5,
     "metadata": {},
     "output_type": "execute_result"
    }
   ],
   "source": [
    "df = wb.query('DPANUSSPF', iso='ind;chn', date=\"2017M05:2017M07\",\n",
    "              frequency='M', use_cache=False)\n",
    "df.head()"
   ]
  }
 ],
 "metadata": {
  "kernelspec": {
   "display_name": "Python 3",
   "language": "python",
   "name": "python3"
  },
  "language_info": {
   "codemirror_mode": {
    "name": "ipython",
    "version": 3
   },
   "file_extension": ".py",
   "mimetype": "text/x-python",
   "name": "python",
   "nbconvert_exporter": "python",
   "pygments_lexer": "ipython3",
   "version": "3.8.8"
  }
 },
 "nbformat": 4,
 "nbformat_minor": 5
}
