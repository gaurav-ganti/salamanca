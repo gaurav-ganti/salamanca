{
 "cells": [
  {
   "cell_type": "markdown",
   "id": "banner-infrastructure",
   "metadata": {},
   "source": [
    "# Translating between Currencies"
   ]
  },
  {
   "cell_type": "code",
   "execution_count": 1,
   "id": "funky-straight",
   "metadata": {},
   "outputs": [],
   "source": [
    "from salamanca.currency import Translator"
   ]
  },
  {
   "cell_type": "markdown",
   "id": "adolescent-verse",
   "metadata": {},
   "source": [
    "Translating between currencies requires a number of different choices\n",
    "\n",
    "- do you want to consider the relative value of two currencies based on [Market Exchange Rates](https://en.wikipedia.org/wiki/Exchange_rate) or [Purchasing Power Parity](https://en.wikipedia.org/wiki/Purchasing_power_parity)?\n",
    "\n",
    "- do you subscribe to the the [GDP Deflator](https://en.wikipedia.org/wiki/GDP_deflator) or [Consumer Price Index](https://en.wikipedia.org/wiki/Consumer_price_index) schools of inflation calculations?\n",
    "\n",
    "Which to use can be very context or use case dependent. `salamanca` offers all options with data supplied by the World Bank. Below are a few examples.\n",
    "\n",
    "## Basics\n",
    "\n",
    "Let's start by getting to know the trusty `Translator` and its primary weapon `exchange()`"
   ]
  },
  {
   "cell_type": "code",
   "execution_count": 2,
   "id": "molecular-adrian",
   "metadata": {},
   "outputs": [],
   "source": [
    "xltr = Translator()"
   ]
  },
  {
   "cell_type": "markdown",
   "id": "minus-husband",
   "metadata": {},
   "source": [
    "Every translation is based on countries and years. By default, the `Translator` assumes you want the USD value of a currency in a year based on market exchange rates using GDP deflators.\n",
    "\n",
    "So, for example, translating 20 Euros (the currency of Austria) in 2010 would net you 26.5 US Dollars."
   ]
  },
  {
   "cell_type": "code",
   "execution_count": 3,
   "id": "favorite-skill",
   "metadata": {},
   "outputs": [
    {
     "data": {
      "text/plain": [
       "26.514333333333386"
      ]
     },
     "execution_count": 3,
     "metadata": {},
     "output_type": "execute_result"
    }
   ],
   "source": [
    "xltr.exchange(20, iso='AUT', yr=2010)"
   ]
  },
  {
   "cell_type": "code",
   "execution_count": 4,
   "id": "historic-belle",
   "metadata": {},
   "outputs": [
    {
     "data": {
      "text/plain": [
       "26.514333333333386"
      ]
     },
     "execution_count": 4,
     "metadata": {},
     "output_type": "execute_result"
    }
   ],
   "source": [
    "xltr.exchange(20, fromiso='AUT', toiso='USA', yr=2010) # equivalent to the above defaults"
   ]
  },
  {
   "cell_type": "markdown",
   "id": "developed-briefs",
   "metadata": {},
   "source": [
    "You can further translate 20 2010 Euros into 2015 US Dollars as"
   ]
  },
  {
   "cell_type": "code",
   "execution_count": 5,
   "id": "waiting-plymouth",
   "metadata": {},
   "outputs": [
    {
     "data": {
      "text/plain": [
       "28.88848849954665"
      ]
     },
     "execution_count": 5,
     "metadata": {},
     "output_type": "execute_result"
    }
   ],
   "source": [
    "xltr.exchange(20, fromiso='AUT', toiso='USA', \n",
    "              fromyr=2010, toyr=2015)"
   ]
  },
  {
   "cell_type": "markdown",
   "id": "arbitrary-dance",
   "metadata": {},
   "source": [
    "## Additional Options\n",
    "\n",
    "You can specify options such as using CPI rather than GDP Deflators"
   ]
  },
  {
   "cell_type": "code",
   "execution_count": 6,
   "id": "scheduled-tattoo",
   "metadata": {},
   "outputs": [
    {
     "data": {
      "text/plain": [
       "28.819946039731406"
      ]
     },
     "execution_count": 6,
     "metadata": {},
     "output_type": "execute_result"
    }
   ],
   "source": [
    "xltr.exchange(20, fromiso='AUT', toiso='USA', \n",
    "              fromyr=2010, toyr=2015, \n",
    "              inflation_method='cpi')"
   ]
  },
  {
   "cell_type": "markdown",
   "id": "employed-president",
   "metadata": {},
   "source": [
    "Similarly, you can use Purchasing Power Parity rather than Market Exchange Rates"
   ]
  },
  {
   "cell_type": "code",
   "execution_count": 7,
   "id": "union-midnight",
   "metadata": {},
   "outputs": [
    {
     "data": {
      "text/plain": [
       "25.919029469737964"
      ]
     },
     "execution_count": 7,
     "metadata": {},
     "output_type": "execute_result"
    }
   ],
   "source": [
    "xltr.exchange(20, fromiso='AUT', toiso='USA', \n",
    "              fromyr=2010, toyr=2015, \n",
    "              units='PPP')"
   ]
  }
 ],
 "metadata": {
  "kernelspec": {
   "display_name": "Python 3",
   "language": "python",
   "name": "python3"
  },
  "language_info": {
   "codemirror_mode": {
    "name": "ipython",
    "version": 3
   },
   "file_extension": ".py",
   "mimetype": "text/x-python",
   "name": "python",
   "nbconvert_exporter": "python",
   "pygments_lexer": "ipython3",
   "version": "3.8.8"
  }
 },
 "nbformat": 4,
 "nbformat_minor": 5
}
